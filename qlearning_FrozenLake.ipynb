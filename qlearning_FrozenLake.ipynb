{
 "cells": [
  {
   "cell_type": "code",
   "execution_count": 1,
   "id": "designing-plain",
   "metadata": {},
   "outputs": [],
   "source": [
    "import gym\n",
    "\n",
    "env = gym.make(\"FrozenLake-v0\").env"
   ]
  },
  {
   "cell_type": "code",
   "execution_count": null,
   "id": "further-sphere",
   "metadata": {},
   "outputs": [],
   "source": [
    "\"\"\"\n",
    "Documentation from https://gym.openai.com/envs/FrozenLake-v0/\n",
    "SFFF       (S: starting point, safe)\n",
    "FHFH       (F: frozen surface, safe)\n",
    "FFFH       (H: hole, fall to your doom)\n",
    "HFFG       (G: goal, where the frisbee is located)\n",
    "\"\"\""
   ]
  },
  {
   "cell_type": "code",
   "execution_count": 2,
   "id": "fallen-finish",
   "metadata": {},
   "outputs": [
    {
     "name": "stdout",
     "output_type": "stream",
     "text": [
      "\n",
      "\u001b[41mS\u001b[0mFFF\n",
      "FHFH\n",
      "FFFH\n",
      "HFFG\n"
     ]
    }
   ],
   "source": [
    "# reset and display environment\n",
    "env.reset()\n",
    "env.render()"
   ]
  },
  {
   "cell_type": "code",
   "execution_count": 3,
   "id": "religious-anxiety",
   "metadata": {},
   "outputs": [
    {
     "name": "stdout",
     "output_type": "stream",
     "text": [
      "Action Space Discrete(4)\n",
      "State Space Discrete(16)\n"
     ]
    }
   ],
   "source": [
    "# action space are possible moves: [\"Left\", \"Down\", \"Right\", \"Up\"] (https://github.com/openai/gym/blob/master/gym/envs/toy_text/frozen_lake.py)\n",
    "print(\"Action Space {}\".format(env.action_space))\n",
    "# states are the possible positions : 4x4\n",
    "print(\"State Space {}\".format(env.observation_space))"
   ]
  },
  {
   "cell_type": "code",
   "execution_count": 4,
   "id": "optimum-recall",
   "metadata": {},
   "outputs": [
    {
     "name": "stdout",
     "output_type": "stream",
     "text": [
      "  (Down)\n",
      "SFFF\n",
      "\u001b[41mF\u001b[0mHFH\n",
      "FFFH\n",
      "HFFG\n",
      "4 0.0 False {'prob': 0.3333333333333333}\n"
     ]
    }
   ],
   "source": [
    "state, reward, done, info = env.step(1)\n",
    "env.render()\n",
    "print(state, reward, done, info)"
   ]
  },
  {
   "cell_type": "code",
   "execution_count": 5,
   "id": "diverse-secondary",
   "metadata": {},
   "outputs": [
    {
     "data": {
      "text/plain": [
       "{0: [(0.3333333333333333, 0, 0.0, False),\n",
       "  (0.3333333333333333, 4, 0.0, False),\n",
       "  (0.3333333333333333, 8, 0.0, False)],\n",
       " 1: [(0.3333333333333333, 4, 0.0, False),\n",
       "  (0.3333333333333333, 8, 0.0, False),\n",
       "  (0.3333333333333333, 5, 0.0, True)],\n",
       " 2: [(0.3333333333333333, 8, 0.0, False),\n",
       "  (0.3333333333333333, 5, 0.0, True),\n",
       "  (0.3333333333333333, 0, 0.0, False)],\n",
       " 3: [(0.3333333333333333, 5, 0.0, True),\n",
       "  (0.3333333333333333, 0, 0.0, False),\n",
       "  (0.3333333333333333, 4, 0.0, False)]}"
      ]
     },
     "execution_count": 5,
     "metadata": {},
     "output_type": "execute_result"
    }
   ],
   "source": [
    "# Reward table called P: states x actions\n",
    "# {action: [(probability, nextstate, reward, done)]}\n",
    "# probability of taking the action can be lower than one: \"the ice is slippery, so you won't always move in the direction you intend.\"\n",
    "env.P[4]"
   ]
  },
  {
   "cell_type": "markdown",
   "id": "decreased-console",
   "metadata": {},
   "source": [
    "## Run random moves and print animated result"
   ]
  },
  {
   "cell_type": "code",
   "execution_count": 6,
   "id": "attractive-viking",
   "metadata": {},
   "outputs": [],
   "source": [
    "env.reset()\n",
    "\n",
    "imgs = []\n",
    "\n",
    "done = False\n",
    "\n",
    "while not done:\n",
    "    action = env.action_space.sample()\n",
    "    state, reward, done, info = env.step(action)\n",
    "    \n",
    "    imgs.append({\n",
    "        'frame': env.render(mode='ansi'),\n",
    "        'state': state,\n",
    "        'action': action,\n",
    "        'reward': reward,\n",
    "        'done': done\n",
    "        }\n",
    "    )"
   ]
  },
  {
   "cell_type": "code",
   "execution_count": 15,
   "id": "criminal-report",
   "metadata": {},
   "outputs": [],
   "source": [
    "from IPython.display import clear_output\n",
    "from time import sleep\n",
    "\n",
    "def print_frames(frames, sleep_time=0.5):\n",
    "    for i, img in enumerate(imgs):\n",
    "        clear_output(wait=True)\n",
    "        print(img['frame'])\n",
    "        print(\"Step: {}\".format(i))\n",
    "        print(\"State: {}\".format(img['state']))\n",
    "        print(\"Action: {}\".format(img['action']))\n",
    "        print(\"Reward: {}\".format(img['reward']))\n",
    "        print(\"Done: {}\".format(img['done']))\n",
    "        sleep(sleep_time)"
   ]
  },
  {
   "cell_type": "code",
   "execution_count": 8,
   "id": "static-respondent",
   "metadata": {},
   "outputs": [
    {
     "name": "stdout",
     "output_type": "stream",
     "text": [
      "  (Left)\n",
      "SFFF\n",
      "F\u001b[41mH\u001b[0mFH\n",
      "FFFH\n",
      "HFFG\n",
      "\n",
      "Step: 6\n",
      "State: 5\n",
      "Action: 0\n",
      "Reward: 0.0\n",
      "Done: True\n"
     ]
    }
   ],
   "source": [
    "print_frames(imgs)"
   ]
  },
  {
   "cell_type": "markdown",
   "id": "reflected-elevation",
   "metadata": {},
   "source": [
    "## Create q-table"
   ]
  },
  {
   "cell_type": "code",
   "execution_count": 9,
   "id": "proud-station",
   "metadata": {},
   "outputs": [],
   "source": [
    "import numpy as np\n",
    "q_table = np.zeros([env.observation_space.n, env.action_space.n])"
   ]
  },
  {
   "cell_type": "markdown",
   "id": "reasonable-routine",
   "metadata": {},
   "source": [
    "## Fill q-table"
   ]
  },
  {
   "cell_type": "code",
   "execution_count": 10,
   "id": "answering-showcase",
   "metadata": {},
   "outputs": [
    {
     "name": "stdout",
     "output_type": "stream",
     "text": [
      "Try n°199900\n"
     ]
    }
   ],
   "source": [
    "import random\n",
    "\n",
    "# parameter for q-table\n",
    "alpha = 0.1\n",
    "gamma = 0.9\n",
    "epsilon = 0.4\n",
    "\n",
    "for i in range(200000):\n",
    "    state = env.reset()\n",
    "\n",
    "    done = False    \n",
    "    while not done:\n",
    "        if random.uniform(0, 1) < epsilon:\n",
    "            action = env.action_space.sample()\n",
    "        else:\n",
    "            action = np.argmax(q_table[state])\n",
    "\n",
    "        next_state, reward, done, info = env.step(action)\n",
    "        # set specific reward to add penalties\n",
    "        if done and reward != 1:\n",
    "            reward = -10\n",
    "        elif reward == 0:\n",
    "            reward = -0.5\n",
    "        else:\n",
    "            reward = 20\n",
    "\n",
    "        old_value = q_table[state, action]\n",
    "        next_max = np.max(q_table[next_state])\n",
    "        \n",
    "        new_value = (1 - alpha) * old_value + alpha * (reward + gamma * next_max)\n",
    "        q_table[state, action] = new_value\n",
    "\n",
    "        state = next_state\n",
    "        \n",
    "    if i % 100 == 0:\n",
    "        clear_output(wait=True)\n",
    "        print(f\"Try n°{i}\")\n"
   ]
  },
  {
   "cell_type": "code",
   "execution_count": 19,
   "id": "specific-quantum",
   "metadata": {},
   "outputs": [],
   "source": [
    "env.reset()\n",
    "\n",
    "imgs = []\n",
    "\n",
    "done = False\n",
    "\n",
    "while not done:\n",
    "    action = np.argmax(q_table[state])\n",
    "    state, reward, done, info = env.step(action)\n",
    "    \n",
    "    imgs.append({\n",
    "        'frame': env.render(mode='ansi'),\n",
    "        'state': state,\n",
    "        'action': action,\n",
    "        'reward': reward,\n",
    "        'done': done\n",
    "        }\n",
    "    )"
   ]
  },
  {
   "cell_type": "code",
   "execution_count": 21,
   "id": "japanese-portable",
   "metadata": {},
   "outputs": [
    {
     "name": "stdout",
     "output_type": "stream",
     "text": [
      "  (Down)\n",
      "SFFF\n",
      "FHFH\n",
      "FFFH\n",
      "HFF\u001b[41mG\u001b[0m\n",
      "\n",
      "Step: 18\n",
      "State: 15\n",
      "Action: 1\n",
      "Reward: 1.0\n",
      "Done: True\n"
     ]
    }
   ],
   "source": [
    "print_frames(imgs, 0.2)"
   ]
  },
  {
   "cell_type": "code",
   "execution_count": null,
   "id": "unavailable-billion",
   "metadata": {},
   "outputs": [],
   "source": []
  }
 ],
 "metadata": {
  "kernelspec": {
   "display_name": "Python 3",
   "language": "python",
   "name": "python3"
  },
  "language_info": {
   "codemirror_mode": {
    "name": "ipython",
    "version": 3
   },
   "file_extension": ".py",
   "mimetype": "text/x-python",
   "name": "python",
   "nbconvert_exporter": "python",
   "pygments_lexer": "ipython3",
   "version": "3.8.5"
  }
 },
 "nbformat": 4,
 "nbformat_minor": 5
}
