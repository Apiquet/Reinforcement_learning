{
 "cells": [
  {
   "cell_type": "code",
   "execution_count": 2,
   "id": "experienced-traffic",
   "metadata": {},
   "outputs": [],
   "source": [
    "import gym\n",
    "import logging\n",
    "import matplotlib.pyplot as plt"
   ]
  },
  {
   "cell_type": "code",
   "execution_count": 3,
   "id": "persistent-archive",
   "metadata": {},
   "outputs": [],
   "source": [
    "env = gym.make('LunarLander-v2')\n",
    "env._max_episode_steps = 250\n",
    "gym.logger.setLevel(logging.ERROR)\n",
    "\n",
    "%matplotlib inline\n",
    "plt.rcParams['figure.figsize'] = 20, 15\n",
    "plt.rcParams[\"animation.html\"] = \"jshtml\""
   ]
  },
  {
   "cell_type": "code",
   "execution_count": 4,
   "id": "detailed-century",
   "metadata": {},
   "outputs": [],
   "source": [
    "from gym.envs.box2d.lunar_lander import heuristic"
   ]
  },
  {
   "cell_type": "code",
   "execution_count": 5,
   "id": "dressed-dependence",
   "metadata": {},
   "outputs": [],
   "source": [
    "def run_episode(env, policy):\n",
    "    frames = []\n",
    "    observation = env.reset()\n",
    "    done = False\n",
    "    while not done:\n",
    "        frames.append(env.render(mode='rgb_array'))\n",
    "        action = policy(env, observation)\n",
    "        observation, reward, done, info = env.step(action)\n",
    "    return frames"
   ]
  },
  {
   "cell_type": "code",
   "execution_count": 10,
   "id": "worldwide-singapore",
   "metadata": {},
   "outputs": [],
   "source": [
    "def heuristic_policy(env, observation):\n",
    "    return heuristic(env.unwrapped, observation)\n",
    "episode = run_episode(env, heuristic_policy)"
   ]
  },
  {
   "cell_type": "code",
   "execution_count": 6,
   "id": "civil-eugene",
   "metadata": {},
   "outputs": [],
   "source": [
    "def random_policy(env, observation):\n",
    "    return env.action_space.sample()\n",
    "episode = run_episode(env, random_policy)"
   ]
  },
  {
   "cell_type": "code",
   "execution_count": null,
   "id": "worldwide-accordance",
   "metadata": {},
   "outputs": [],
   "source": []
  }
 ],
 "metadata": {
  "kernelspec": {
   "display_name": "Python 3",
   "language": "python",
   "name": "python3"
  },
  "language_info": {
   "codemirror_mode": {
    "name": "ipython",
    "version": 3
   },
   "file_extension": ".py",
   "mimetype": "text/x-python",
   "name": "python",
   "nbconvert_exporter": "python",
   "pygments_lexer": "ipython3",
   "version": "3.8.5"
  }
 },
 "nbformat": 4,
 "nbformat_minor": 5
}
